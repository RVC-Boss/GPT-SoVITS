{
  "cells": [
    {
      "cell_type": "markdown",
      "metadata": {
        "colab_type": "text",
        "id": "view-in-github"
      },
      "source": [
        "<a href=\"https://colab.research.google.com/github/RVC-Boss/GPT-SoVITS/blob/main/colab_webui.ipynb\" target=\"_parent\"><img src=\"https://colab.research.google.com/assets/colab-badge.svg\" alt=\"Open In Colab\"/></a>"
      ]
    },
    {
      "cell_type": "markdown",
      "metadata": {
        "id": "_o6a8GS2lWQM"
      },
      "source": [
        "# Env Setup (Run Once Only)\n",
        "# 环境配置, 只需运行一次"
      ]
    },
    {
      "cell_type": "code",
      "execution_count": null,
      "metadata": {},
      "outputs": [],
      "source": [
        "%%writefile setup.sh\n",
        "set -e\n",
        "\n",
        "if command -v conda >/dev/null 2>&1; then\n",
        "    echo \"conda installed\"\n",
        "else\n",
        "    echo \"installing conda\"\n",
        "\n",
        "    wget -O \"Anaconda.sh\" \"https://repo.anaconda.com/archive/Anaconda3-2024.10-1-Linux-x86_64.sh\"\n",
        "    bash \"Anaconda.sh\" -b -u -p \"$HOME/anaconda3\"\n",
        "    rm -rf \"Anaconda.sh\"\n",
        "\n",
        "    \"$HOME/anaconda3/condabin/conda\" init bash\n",
        "    source \"$HOME/.bashrc\"\n",
        "fi\n",
        "\n",
        "rm -rf GPT-SoVITS\n",
        "git clone https://github.com/RVC-Boss/GPT-SoVITS.git\n",
        "cd GPT-SoVITS\n",
        "\n",
        "CONDA_PATH=$(conda info --base 2>/dev/null || echo \"$HOME/anaconda3\")\n",
        "source \"$CONDA_PATH/etc/profile.d/conda.sh\"\n",
        "\n",
        "if conda env list | awk '{print $1}' | grep -Fxq \"GPT-SoVITS\"; then\n",
        "    :\n",
        "else\n",
        "    conda create -n GPT-SoVITS python=3.10 -y\n",
        "fi\n",
        "\n",
        "conda activate GPT-SoVITS\n",
        "\n",
        "bash install.sh"
      ]
    },
    {
      "cell_type": "code",
      "execution_count": null,
      "metadata": {},
      "outputs": [],
      "source": [
        "%cd -q /content\n",
        "!bash setup.sh\n",
        "%cd -q /content/GPT-SoVITS"
      ]
    },
    {
      "cell_type": "markdown",
      "metadata": {},
      "source": [
        "# UVR5 Model Download (Run Once Only)\n",
        "# UVR5 模型下载, 只需运行一次"
      ]
    },
    {
      "cell_type": "code",
      "execution_count": null,
      "metadata": {
        "id": "0NgxXg5sjv7z"
      },
      "outputs": [],
      "source": [
        "%cd -q /content/GPT-SoVITS\n",
        "!wget https://www.modelscope.cn/models/XXXXRT/UVR5Weights4GSV/resolve/master/uvr5_weights.zip\n",
        "!unzip uvr5_weights.zip\n",
        "!rm -rf uvr5_weights.zip\n",
        "!mv uvr5_weights/* tools/uvr5/uvr5_weights\n",
        "!rm -rf uvr5_weights"
      ]
    },
    {
      "cell_type": "markdown",
      "metadata": {},
      "source": [
        "# Launch WebUI\n",
        "# 启动 WebUI"
      ]
    },
    {
      "cell_type": "code",
      "execution_count": null,
      "metadata": {
        "id": "4oRGUzkrk8C7"
      },
      "outputs": [],
      "source": [
        "# @title launch WebUI 启动WebUI\n",
        "%cd -q /content/GPT-SoVITS\n",
        "!conda activate GPT-SoVITS && pip install ipykernel && export is_share=False && python webui.py"
      ]
    }
  ],
  "metadata": {
    "accelerator": "GPU",
    "colab": {
      "include_colab_link": true,
      "provenance": []
    },
    "kernelspec": {
      "display_name": "Python 3",
      "name": "python3"
    }
  },
  "nbformat": 4,
  "nbformat_minor": 0
}
