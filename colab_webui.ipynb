{
  "cells": [
    {
      "cell_type": "markdown",
      "metadata": {
        "colab_type": "text",
        "id": "view-in-github"
      },
      "source": [
        "<a href=\"https://colab.research.google.com/github/RVC-Boss/GPT-SoVITS/blob/main/colab_webui.ipynb\" target=\"_parent\"><img src=\"https://colab.research.google.com/assets/colab-badge.svg\" alt=\"Open In Colab\"/></a>"
      ]
    },
    {
      "cell_type": "markdown",
      "metadata": {
        "id": "_o6a8GS2lWQM"
      },
      "source": [
        "# Env Setup (Run Once Only)\n",
        "# 环境配置, 只需运行一次"
      ]
    },
    {
      "cell_type": "markdown",
      "metadata": {},
      "source": [
        "## 1."
      ]
    },
    {
      "cell_type": "code",
      "execution_count": null,
      "metadata": {},
      "outputs": [],
      "source": [
        "%%writefile /content/setup.sh\n",
        "set -e\n",
        "cd /content\n",
        "rm -rf GPT-SoVITS\n",
        "git clone https://github.com/RVC-Boss/GPT-SoVITS.git\n",
        "cd GPT-SoVITS\n",
        "\n",
        "CONDA_PATH=$(conda info --base 2>/dev/null || echo \"$HOME/anaconda3\")\n",
        "source \"$CONDA_PATH/etc/profile.d/conda.sh\"\n",
        "\n",
        "if conda env list | awk '{print $1}' | grep -Fxq \"GPT-SoVITS\"; then\n",
        "    :\n",
        "else\n",
        "    conda create -n GPT-SoVITS python=3.10 -y\n",
        "fi\n",
        "\n",
        "conda activate GPT-SoVITS\n",
        "\n",
        "bash install.sh --source HF --download-uvr5"
      ]
    },
    {
      "cell_type": "markdown",
      "metadata": {},
      "source": [
        "## 2."
      ]
    },
    {
      "cell_type": "code",
      "execution_count": null,
      "metadata": {},
      "outputs": [],
      "source": [
        "%pip install -q condacolab\n",
        "import condacolab\n",
        "condacolab.install_from_url(\"https://repo.anaconda.com/archive/Anaconda3-2024.10-1-Linux-x86_64.sh\")\n",
        "!source \"$HOME/.bashrc\" && cd /content && bash setup.sh"
      ]
    },
    {
      "cell_type": "markdown",
      "metadata": {},
      "source": [
        "## 3."
      ]
    },
    {
      "cell_type": "code",
      "execution_count": null,
      "metadata": {},
      "outputs": [],
      "source": [
        "%%writefile /content/GPT-SoVITS/run.sh\n",
        "\n",
        "cd /content/GPT-SoVITS\n",
        "CONDA_PATH=$(conda info --base 2>/dev/null || echo \"$HOME/anaconda3\")\n",
        "source \"$CONDA_PATH/etc/profile.d/conda.sh\"\n",
        "conda activate GPT-SoVITS\n",
        "export is_share=True\n",
        "python webui.py"
      ]
    },
    {
      "cell_type": "markdown",
      "metadata": {},
      "source": [
        "# Launch WebUI\n",
        "# 启动 WebUI"
      ]
    },
    {
      "cell_type": "code",
      "execution_count": null,
      "metadata": {
        "id": "4oRGUzkrk8C7"
      },
      "outputs": [],
      "source": [
        "!bash run.sh"
      ]
    }
  ],
  "metadata": {
    "accelerator": "GPU",
    "colab": {
      "include_colab_link": true,
      "provenance": []
    },
    "kernelspec": {
      "display_name": "Python 3",
      "name": "python3"
    }
  },
  "nbformat": 4,
  "nbformat_minor": 0
}
